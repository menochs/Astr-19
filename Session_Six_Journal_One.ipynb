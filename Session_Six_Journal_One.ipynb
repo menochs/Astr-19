{
 "cells": [
  {
   "cell_type": "markdown",
   "id": "a8b61042-23e9-45d3-9c05-d2289db5612c",
   "metadata": {},
   "source": [
    "## Sin and Cos functions\n",
    "\n",
    "This notebook defines functions to compute the sine and cosine of an angle."
   ]
  },
  {
   "cell_type": "code",
   "execution_count": 1,
   "id": "e449e7c8-a3b7-407d-8aa8-4a687dd8d0de",
   "metadata": {},
   "outputs": [],
   "source": [
    "import numpy as np\n",
    "\n",
    "def compute_sin(x):\n",
    "    return np.sin(x)\n",
    "\n",
    "def compute_cos(x):\n",
    "    return np.cos(x)"
   ]
  },
  {
   "cell_type": "code",
   "execution_count": 3,
   "id": "51551881-ac43-480e-8b2d-191d35a250e8",
   "metadata": {},
   "outputs": [],
   "source": [
    "## Calculation of sin(x) and cos(x)"
   ]
  },
  {
   "cell_type": "code",
   "execution_count": 4,
   "id": "7da34422-05fb-463e-9af4-62aae9b10da6",
   "metadata": {},
   "outputs": [],
   "source": [
    "# Define the range for x\n",
    "x_values = np.linspace(0, 2*np.pi, 1000)\n",
    "\n",
    "# Compute the sin and cos values\n",
    "sin_values = compute_sin(x_values)\n",
    "cos_values = compute_cos(x_values)"
   ]
  },
  {
   "cell_type": "code",
   "execution_count": 5,
   "id": "7a798052-85d1-41dc-a3f3-e67a747728fc",
   "metadata": {},
   "outputs": [
    {
     "name": "stdout",
     "output_type": "stream",
     "text": [
      "x-values      sin(x)      cos(x)\n",
      "0.0      0.0      1.0\n",
      "0.006289474781961547      0.006289433316067751      0.9999802213186832\n",
      "0.012578949563923095      0.012578617838741058      0.9999208860571255\n",
      "0.018868424345884642      0.01886730478446709      0.9998219965624732\n",
      "0.02515789912784619      0.025155245389375847      0.9996835567465339\n",
      "0.03144737390980774      0.0314421909191206      0.9995055720856215\n",
      "0.037736848691769284      0.03772789267871718      0.99928804962034\n",
      "0.04402632347373083      0.04401210202238166      0.9990309979553044\n",
      "0.05031579825569238      0.05029457036336618      0.9987344272588006\n",
      "0.056605273037653926      0.056575049183792345      0.9983983492623831\n"
     ]
    }
   ],
   "source": [
    "print(\"x-values\", \"    \", \"sin(x)\", \"    \", \"cos(x)\")\n",
    "for i in range(10):\n",
    "    print(x_values[i], \"    \", sin_values[i], \"    \", cos_values[i])"
   ]
  },
  {
   "cell_type": "code",
   "execution_count": null,
   "id": "ecf0dfb5-0845-4588-9171-088ec3e2273f",
   "metadata": {},
   "outputs": [],
   "source": []
  }
 ],
 "metadata": {
  "kernelspec": {
   "display_name": "Python 3 (ipykernel)",
   "language": "python",
   "name": "python3"
  },
  "language_info": {
   "codemirror_mode": {
    "name": "ipython",
    "version": 3
   },
   "file_extension": ".py",
   "mimetype": "text/x-python",
   "name": "python",
   "nbconvert_exporter": "python",
   "pygments_lexer": "ipython3",
   "version": "3.12.0"
  }
 },
 "nbformat": 4,
 "nbformat_minor": 5
}
